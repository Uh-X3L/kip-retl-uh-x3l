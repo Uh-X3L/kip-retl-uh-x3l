{
 "cells": [
  {
   "cell_type": "code",
   "execution_count": 1,
   "id": "c6d97065",
   "metadata": {},
   "outputs": [
    {
     "name": "stdout",
     "output_type": "stream",
     "text": [
      "✅ JWT created successfully\n",
      "✅ OK: got installation token (1h lifetime)\n"
     ]
    }
   ],
   "source": [
    "# Cell 1 - Fix the function definition and variable scope\n",
    "import os, time, jwt, requests\n",
    "from dotenv import load_dotenv; load_dotenv()\n",
    "\n",
    "APP_ID = os.environ[\"GITHUB_APP_ID\"]                 \n",
    "INSTALLATION_ID = os.environ[\"GITHUB_INSTALLATION_ID\"]\n",
    "with open(os.environ[\"GITHUB_APP_PRIVATE_KEY_PEM\"], \"r\") as f:\n",
    "    PRIVATE_KEY = f.read()\n",
    "\n",
    "def make_app_jwt(app_id: str, pem: str) -> str:  # Fixed: added 'def make'\n",
    "    now = int(time.time())\n",
    "    payload = {\n",
    "        \"iat\": now - 60,        # 60s in the past for skew\n",
    "        \"exp\": now + 540,       # 9 minutes ahead (NOT 10)\n",
    "        \"iss\": int(app_id)      # your GitHub App ID (numeric)\n",
    "    }\n",
    "    return jwt.encode(payload, pem, algorithm=\"RS256\")\n",
    "\n",
    "def get_installation_token(installation_id: str, app_jwt: str) -> str:\n",
    "    url = f\"https://api.github.com/app/installations/{installation_id}/access_tokens\"\n",
    "    r = requests.post(url, headers={\n",
    "        \"Authorization\": f\"Bearer {app_jwt}\",\n",
    "        \"Accept\": \"application/vnd.github+json\"\n",
    "    })\n",
    "    r.raise_for_status()\n",
    "    return r.json()[\"token\"]          # 1-hour token\n",
    "\n",
    "# Initialize variables at module level for cross-cell access\n",
    "app_jwt = None\n",
    "inst_token = None\n",
    "\n",
    "try:\n",
    "    app_jwt = make_app_jwt(APP_ID, PRIVATE_KEY)\n",
    "    print(f\"✅ JWT created successfully\")\n",
    "    \n",
    "    inst_token = get_installation_token(INSTALLATION_ID, app_jwt)\n",
    "    print(\"✅ OK: got installation token (1h lifetime)\")\n",
    "    \n",
    "except Exception as e:\n",
    "    print(f\"❌ Error: {e}\")\n",
    "    import traceback\n",
    "    traceback.print_exc()"
   ]
  }
 ],
 "metadata": {
  "kernelspec": {
   "display_name": "kraken_futures_trading",
   "language": "python",
   "name": "python3"
  },
  "language_info": {
   "codemirror_mode": {
    "name": "ipython",
    "version": 3
   },
   "file_extension": ".py",
   "mimetype": "text/x-python",
   "name": "python",
   "nbconvert_exporter": "python",
   "pygments_lexer": "ipython3",
   "version": "3.10.13"
  }
 },
 "nbformat": 4,
 "nbformat_minor": 5
}
